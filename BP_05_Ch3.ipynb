{
  "nbformat": 4,
  "nbformat_minor": 0,
  "metadata": {
    "colab": {
      "provenance": [],
      "authorship_tag": "ABX9TyO5yRcqLsY7Row09s2D2SdU",
      "include_colab_link": true
    },
    "kernelspec": {
      "name": "python3",
      "display_name": "Python 3"
    },
    "language_info": {
      "name": "python"
    }
  },
  "cells": [
    {
      "cell_type": "markdown",
      "metadata": {
        "id": "view-in-github",
        "colab_type": "text"
      },
      "source": [
        "<a href=\"https://colab.research.google.com/github/rlaehgus5531/BP_05_Ch3/blob/main/BP_05_Ch3.ipynb\" target=\"_parent\"><img src=\"https://colab.research.google.com/assets/colab-badge.svg\" alt=\"Open In Colab\"/></a>"
      ]
    },
    {
      "cell_type": "markdown",
      "source": [
        "1.사용자로부터 두 개의 정수를 받아서 정수의 합 정수의 차 정수의 곱 정수의 평균, 큰\n",
        "수 작은 수를 계산하여 화면에 출럭하는 프로그램을 작성하라 파이썬이 제공하는 내장함수 max(x, y), min(x, y)을 사용해보자."
      ],
      "metadata": {
        "id": "rKlmX7C683_j"
      }
    },
    {
      "cell_type": "code",
      "source": [
        "x = int(input(\"x의 값은?:\"))  \n",
        "y=int(input(\"y의값은?:\"))\n",
        "print(\"두수의 합은:\",x + y)\n",
        "print(\"두수의 차는:\",x - y)\n",
        "print(\"두수의 곱은:\",x * y)\n",
        "print(\"두수의 평균은:\",(x + y)/2)\n",
        "print(\"큰수는:\",max(x,y))\n",
        "print(\"작은수는:\", min(x,y))"
      ],
      "metadata": {
        "colab": {
          "base_uri": "https://localhost:8080/"
        },
        "id": "NSK0iCxr82yX",
        "outputId": "338e9421-6d48-4f00-bef3-d8403ff026eb"
      },
      "execution_count": 1,
      "outputs": [
        {
          "output_type": "stream",
          "name": "stdout",
          "text": [
            "x의 값은?:10\n",
            "y의값은?:20\n",
            "두수의 합은: 30\n",
            "두수의 차는: -10\n",
            "두수의 곱은: 200\n",
            "두수의 평균은: 15.0\n",
            "큰수는: 20\n",
            "작은수는: 10\n"
          ]
        }
      ]
    },
    {
      "cell_type": "markdown",
      "source": [
        "2.원기둥의 부피를 계산하는 프로그램을 작성해보자. 원기둥의 부피는 다음과 같이 계산한다"
      ],
      "metadata": {
        "id": "W0aK0sbN-Ga-"
      }
    },
    {
      "cell_type": "code",
      "source": [
        "r = float(input(\"r값은:\"))\n",
        "h = float(input(\"h값은:\"))\n",
        "vol = 3.141592*r**2*h\n",
        "print(\"원기둥의 부피는:\",vol)"
      ],
      "metadata": {
        "colab": {
          "base_uri": "https://localhost:8080/"
        },
        "id": "fOBlcOh6-IiF",
        "outputId": "0de9b708-e717-4632-93db-9bc8f3dd5e56"
      },
      "execution_count": 2,
      "outputs": [
        {
          "output_type": "stream",
          "name": "stdout",
          "text": [
            "r값은:10\n",
            "h값은:100\n",
            "원기둥의 부피는: 31415.92\n"
          ]
        }
      ]
    },
    {
      "cell_type": "markdown",
      "source": [
        "3.사용지로부터 정수를 받아서 내 정수의 자리수의 합을 계산하는 프로그램을 작성하여 보자. 예릍 들어서 사용자가 1234를 입력하였다면 1+2+3+4를 계산하면 된다 나머지 연 산자와 정수 나눗셈 연산자 // 를 적극적으로 사용해보자(자리수는 number % 10으로 계산할 수 있다. 10의 자리수는 number = number // 10한 후 에 동일한 처리를 되풀이 한다. 단 반복문은 사용하지 않는다.)"
      ],
      "metadata": {
        "id": "GRHHMSdt-NQb"
      }
    },
    {
      "cell_type": "code",
      "source": [
        "number = int(input(\"정수를 입력하시오.:\"))\n",
        "sum = 0\n",
        "sum = sum + number % 10\n",
        "number = number // 10\n",
        "sum = sum + number % 10\n",
        "number = number // 10\n",
        "sum = sum + number % 10\n",
        "number = number // 10\n",
        "sum = sum + number % 10\n",
        "number = number // 10\n",
        "print(\"자리수의 합은:\" ,str(sum))"
      ],
      "metadata": {
        "colab": {
          "base_uri": "https://localhost:8080/"
        },
        "id": "yezyktIN-X5w",
        "outputId": "49aed823-88c4-4dc3-89f5-5c4df70ad2bd"
      },
      "execution_count": 3,
      "outputs": [
        {
          "output_type": "stream",
          "name": "stdout",
          "text": [
            "정수를 입력하시오.:1234\n",
            "자리수의 합은: 10\n"
          ]
        }
      ]
    },
    {
      "cell_type": "markdown",
      "source": [
        "4.사용자로부터 두 점의 좌표 (x1,y1)과 (x2,y2)를 입력받아서 두 점 사이의 거리를 계산하는 프로그램을 작성해보자 스크립트 모드로 작성하라 거리는 다음 식으로 계산한다."
      ],
      "metadata": {
        "id": "E4YUeJDT-h1P"
      }
    },
    {
      "cell_type": "code",
      "source": [
        "x1=int(input(\"x1의값을 입력하시오:\"))\n",
        "y1=int(input(\"y1의값을 입력하시오:\"))\n",
        "x2=int(input(\"x2의값을 입력하시오:\"))\n",
        "y2=int(input(\"y2의값을 입력하시오:\"))\n",
        "dist= ((x2-x1) **2 + (y2 - y1) **2 )**0.5\n",
        "print(\"두점의 사이의 거리는:\", dist,\"입니다\")"
      ],
      "metadata": {
        "colab": {
          "base_uri": "https://localhost:8080/"
        },
        "id": "TFEz9KXX-pRu",
        "outputId": "f2773817-3cab-4ec3-e87d-4f1807e9acfe"
      },
      "execution_count": 4,
      "outputs": [
        {
          "output_type": "stream",
          "name": "stdout",
          "text": [
            "x1의값을 입력하시오:0\n",
            "y1의값을 입력하시오:0\n",
            "x2의값을 입력하시오:100\n",
            "y2의값을 입력하시오:100\n",
            "두점의 사이의 거리는: 141.4213562373095 입니다\n"
          ]
        }
      ]
    },
    {
      "cell_type": "markdown",
      "source": [
        "5.4번문제에서 계산한거리가 맞는지, 터틀그래픽으로확인해보자. 거북이를 왼쪽으로 45도 회전하여 141만큼 전진시킨다. 다시 거북이 를 (0, 0)으로 이동하고 0도를 가리키게 한 후 에 100만큼 전진하고 왼쪽으로 90도 회전하여 100만큼 전진한다. 화면에 그려진 직선이 일치 하는가? \n",
        "\n",
        "(거북이의 방향을 설정하려면 setheading(O)을 사옹하는 것이 편리하다. 예를 들어서 0도를 가리 키게 하려면 setheading(0)이 된다.)"
      ],
      "metadata": {
        "id": "Yww_yWnC-0Yw"
      }
    },
    {
      "cell_type": "code",
      "source": [
        "import turtle\n",
        "t = turtle.Turtle()\n",
        "t. shape(\"turtle\")\n",
        "t.lt(45)\n",
        "t.fd(141)\n",
        "t.setheading(0) \n",
        "t.goto(0,0)\n",
        "t.fd(100)\n",
        "t.lt(90)\n",
        "t.fd(100)"
      ],
      "metadata": {
        "id": "GCWSqCjA_GK3"
      },
      "execution_count": null,
      "outputs": []
    },
    {
      "cell_type": "markdown",
      "source": [
        "6.사용자로부터 두점을 입력 받아서 터틀그래픽을이용하여 두점을 연결하는직선을그\n",
        "린다. 직선의 끝점에 직선의 길이를 계산하여 츨력해보자"
      ],
      "metadata": {
        "id": "nP33OnqH_GuM"
      }
    },
    {
      "cell_type": "code",
      "source": [
        "import turtle\n",
        "t = turtle.Turtle()\n",
        "t. shape(\"turtle\")\n",
        "x1 = int(input(\"x1:\"))\n",
        "x1:0\n",
        "y1 = int(input(\"y1:\"))\n",
        "y1:0\n",
        "x2 = int(input(\"x2:\"))\n",
        "x2:100\n",
        "y2 = int(input(\"y2:\"))\n",
        "y2:100\n",
        "dist = ((x2-x1) **2 + (y2 - y1) **2 )**0.5\n",
        "t.up()\n",
        "t.goto(x1,y1)\n",
        "t.down()\n",
        "t.goto(x2,y2)\n",
        "t.write(\"점의길이=\" + str(dist))"
      ],
      "metadata": {
        "id": "nV39dwXE_N6u"
      },
      "execution_count": null,
      "outputs": []
    },
    {
      "cell_type": "markdown",
      "source": [
        "7.파이썬에서 time( )을 호출하면 1970년 1월 1일 이후 흘러온 전체 초가 반환된다. 이것을 적절하게 나누거나 나머지를 구해서 현재 시간의 시와 분을 계산할 수 있올까?\n"
      ],
      "metadata": {
        "id": "GiVuEeKdDJa-"
      }
    },
    {
      "cell_type": "code",
      "source": [
        "import time\n",
        "fseconds = time.time() // 60\n",
        "minute= fseconds % 60\n",
        "hour = fseconds //60 % 24\n",
        "print(\"현재 시간(영국그리니치 시각) :\",int(hour),\"시\",int(minute),\"분\")"
      ],
      "metadata": {
        "colab": {
          "base_uri": "https://localhost:8080/"
        },
        "id": "UIGx-NMfDXbU",
        "outputId": "562590ad-2e63-441e-ff0b-db2b252eba64"
      },
      "execution_count": 9,
      "outputs": [
        {
          "output_type": "stream",
          "name": "stdout",
          "text": [
            "현재 시간(영국그리니치 시각) : 9 시 13 분\n"
          ]
        }
      ]
    },
    {
      "cell_type": "markdown",
      "source": [
        "8.움직이는 물체의 운동에너지를 계산해보자. 물체의 에너지를 계산하는 식은 1/2* 무게 * 속도* 2이다.\n"
      ],
      "metadata": {
        "id": "it10HhiaEWMp"
      }
    },
    {
      "cell_type": "code",
      "source": [
        "weight = int(input(\"물체의 무게를 입력하시오(킬로그램):\"))\n",
        "speed = int(input(\"물체의 속도를 입력하시오(미터/초):\"))\n",
        "print(\"물체는\",1/2*weight*speed**2,\"(줄)의 에너지를 갖고있다\")"
      ],
      "metadata": {
        "colab": {
          "base_uri": "https://localhost:8080/"
        },
        "id": "44YpM9C0F_ng",
        "outputId": "90abfb5f-97f2-4291-f539-315fd6b18aa5"
      },
      "execution_count": 11,
      "outputs": [
        {
          "output_type": "stream",
          "name": "stdout",
          "text": [
            "물체의 무게를 입력하시오(킬로그램):10\n",
            "물체의 속도를 입력하시오(미터/초):100\n",
            "물체는 50000.0 (줄)의 에너지를 갖고있다\n"
          ]
        }
      ]
    }
  ]
}